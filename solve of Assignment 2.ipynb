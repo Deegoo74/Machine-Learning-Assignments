{
 "cells": [
  {
   "cell_type": "markdown",
   "id": "f28d14c3",
   "metadata": {},
   "source": [
    "### Python program to interchange first and last elements in a list"
   ]
  },
  {
   "cell_type": "code",
   "execution_count": 1,
   "id": "0164da51",
   "metadata": {},
   "outputs": [
    {
     "name": "stdout",
     "output_type": "stream",
     "text": [
      "[24, 35, 9, 56, 12]\n"
     ]
    }
   ],
   "source": [
    "list_one=[12,35,9,56,24]\n",
    "list_one[0],list_one[-1]=list_one[-1],list_one[0]\n",
    "print(list_one)"
   ]
  },
  {
   "cell_type": "markdown",
   "id": "b5db64b0",
   "metadata": {},
   "source": [
    "### Find the Length of a List in Python"
   ]
  },
  {
   "cell_type": "code",
   "execution_count": 2,
   "id": "8786e276",
   "metadata": {},
   "outputs": [
    {
     "name": "stdout",
     "output_type": "stream",
     "text": [
      "4\n"
     ]
    }
   ],
   "source": [
    "list_one=[10,20,30,40]\n",
    "print(len(list_one))"
   ]
  },
  {
   "cell_type": "markdown",
   "id": "1149c459",
   "metadata": {},
   "source": [
    "### Find elements of a list by indices"
   ]
  },
  {
   "cell_type": "code",
   "execution_count": 8,
   "id": "6206fa86",
   "metadata": {},
   "outputs": [
    {
     "name": "stdout",
     "output_type": "stream",
     "text": [
      "20\n",
      "40\n",
      "60\n"
     ]
    }
   ],
   "source": [
    "list_one=[10,20,30,40,50,60,70]\n",
    "list_two=[1,3,5]\n",
    "list_one[list_two[0]]\n",
    "print(list_one[list_two[0]])\n",
    "list_one[list_two[1]]\n",
    "print(list_one[list_two[1]])\n",
    "list_one[list_two[2]]\n",
    "print(list_one[list_two[2]])"
   ]
  },
  {
   "cell_type": "markdown",
   "id": "e88d6e95",
   "metadata": {},
   "source": [
    "### Python program to find the String in a List"
   ]
  },
  {
   "cell_type": "code",
   "execution_count": 9,
   "id": "ab123111",
   "metadata": {},
   "outputs": [
    {
     "name": "stdout",
     "output_type": "stream",
     "text": [
      "Enter Your Listamit,py,machine,learning\n",
      "amit,py,machine,learning\n",
      "Enter Your Search Keypy\n",
      "py\n",
      "True\n"
     ]
    }
   ],
   "source": [
    "my_list=input(\"Enter Your List\")\n",
    "my_list.split(\",\")\n",
    "print(my_list)\n",
    "x=input(\"Enter Your Search Key\")\n",
    "print(x)\n",
    "print(x in my_list)"
   ]
  },
  {
   "cell_type": "code",
   "execution_count": 11,
   "id": "cf884f6f",
   "metadata": {},
   "outputs": [
    {
     "name": "stdout",
     "output_type": "stream",
     "text": [
      "Enter Your List1,2,3,4,5,6\n",
      "1,2,3,4,5,6\n",
      "Enter Your Search Key8\n",
      "8\n",
      "False\n"
     ]
    }
   ],
   "source": [
    "list_one=input(\"Enter Your List\")\n",
    "list_one.split(\",\")\n",
    "print(list_one)\n",
    "x=input(\"Enter Your Search Key\")\n",
    "print(x)\n",
    "print(x in list_one)"
   ]
  },
  {
   "cell_type": "markdown",
   "id": "0758a1a6",
   "metadata": {},
   "source": [
    "### Ways to find indices of value in list"
   ]
  },
  {
   "cell_type": "code",
   "execution_count": 13,
   "id": "0e6f5285",
   "metadata": {},
   "outputs": [
    {
     "name": "stdout",
     "output_type": "stream",
     "text": [
      "Enter Your Listcat,dog,lion,tiger\n",
      "cat,dog,lion,tiger\n",
      "Enter Your Search Keycat\n",
      "cat\n",
      "0\n"
     ]
    }
   ],
   "source": [
    "list_of_animals=input(\"Enter Your List\")\n",
    "list_of_animals.split(\",\")\n",
    "print(list_of_animals)\n",
    "x=input(\"Enter Your Search Key\")\n",
    "print(x)\n",
    "print(list_of_animals.index(x))"
   ]
  },
  {
   "cell_type": "markdown",
   "id": "465b17fe",
   "metadata": {},
   "source": [
    "### Find most frequent element in a list"
   ]
  },
  {
   "cell_type": "code",
   "execution_count": 21,
   "id": "a6cc1b7b",
   "metadata": {},
   "outputs": [
    {
     "name": "stdout",
     "output_type": "stream",
     "text": [
      "Enter Your List\n",
      "123252\n",
      "123252\n",
      "2\n"
     ]
    }
   ],
   "source": [
    "list_one=input(\"Enter Your List\\n\")\n",
    "list_one.split(\",\")\n",
    "print(list_one)\n",
    "print(max(list_one,key=list_one.count))"
   ]
  },
  {
   "cell_type": "code",
   "execution_count": 23,
   "id": "9359ea38",
   "metadata": {},
   "outputs": [
    {
     "name": "stdout",
     "output_type": "stream",
     "text": [
      "Enter your List\n",
      "dog,cat,tiger,cat\n",
      "dog,cat,tiger,cat\n",
      ",\n"
     ]
    }
   ],
   "source": [
    "list_one=input(\"Enter your List\\n\")\n",
    "list_one.split(\",\")\n",
    "print(list_one)\n",
    "print(max(list_one,key=list_one.count))"
   ]
  },
  {
   "cell_type": "markdown",
   "id": "852f3231",
   "metadata": {},
   "source": [
    "### Remove an Item from the List in Python."
   ]
  },
  {
   "cell_type": "code",
   "execution_count": 24,
   "id": "a5f67e6e",
   "metadata": {},
   "outputs": [
    {
     "name": "stdout",
     "output_type": "stream",
     "text": [
      "Enter Your List\n",
      "rose,lily,lotus,sun,sunflower\n",
      "rose,lily,lotus,sun,sunflower\n",
      "Enter The Word You Want To Remove It\n",
      "sun\n",
      "sun\n"
     ]
    },
    {
     "ename": "AttributeError",
     "evalue": "'str' object has no attribute 'remove'",
     "output_type": "error",
     "traceback": [
      "\u001b[1;31m---------------------------------------------------------------------------\u001b[0m",
      "\u001b[1;31mAttributeError\u001b[0m                            Traceback (most recent call last)",
      "Cell \u001b[1;32mIn[24], line 6\u001b[0m\n\u001b[0;32m      4\u001b[0m x\u001b[38;5;241m=\u001b[39m\u001b[38;5;28minput\u001b[39m(\u001b[38;5;124m\"\u001b[39m\u001b[38;5;124mEnter The Word You Want To Remove It\u001b[39m\u001b[38;5;130;01m\\n\u001b[39;00m\u001b[38;5;124m\"\u001b[39m)\n\u001b[0;32m      5\u001b[0m \u001b[38;5;28mprint\u001b[39m(x)\n\u001b[1;32m----> 6\u001b[0m \u001b[43mmy_list\u001b[49m\u001b[38;5;241;43m.\u001b[39;49m\u001b[43mremove\u001b[49m(x)\n\u001b[0;32m      7\u001b[0m \u001b[38;5;28mprint\u001b[39m(\u001b[38;5;124m\"\u001b[39m\u001b[38;5;124mList After Removing Is\u001b[39m\u001b[38;5;130;01m\\n\u001b[39;00m\u001b[38;5;124m\"\u001b[39m)\n",
      "\u001b[1;31mAttributeError\u001b[0m: 'str' object has no attribute 'remove'"
     ]
    }
   ],
   "source": [
    "my_list=input(\"Enter Your List\\n\")\n",
    "my_list.split(\",\")\n",
    "print(my_list)\n",
    "x=input(\"Enter The Word You Want To Remove It\\n\")\n",
    "print(x)\n",
    "my_list.remove(x)\n",
    "print(\"List After Removing Is\\n\")"
   ]
  },
  {
   "cell_type": "markdown",
   "id": "be393282",
   "metadata": {},
   "source": [
    "### Remove multiple elements from a list in Python"
   ]
  },
  {
   "cell_type": "code",
   "execution_count": 32,
   "id": "bf0af950",
   "metadata": {},
   "outputs": [
    {
     "name": "stdout",
     "output_type": "stream",
     "text": [
      "[15, 10]\n"
     ]
    }
   ],
   "source": [
    "list_one=[12,15,3,10]\n",
    "list_one=list_one[1:4:2]\n",
    "print(list_one)"
   ]
  },
  {
   "cell_type": "code",
   "execution_count": 35,
   "id": "dcbcf47d",
   "metadata": {},
   "outputs": [
    {
     "name": "stdout",
     "output_type": "stream",
     "text": [
      "[11, 50]\n"
     ]
    }
   ],
   "source": [
    "list_two=[11,5,17,18,23,50]\n",
    "list_two=list_two[0:6:5]\n",
    "print(list_two)"
   ]
  },
  {
   "cell_type": "markdown",
   "id": "7c7b1817",
   "metadata": {},
   "source": [
    "### python program to check whether the string is Palindrome and get the str from user"
   ]
  },
  {
   "cell_type": "code",
   "execution_count": 36,
   "id": "1a3c3811",
   "metadata": {},
   "outputs": [
    {
     "name": "stdout",
     "output_type": "stream",
     "text": [
      "Enter Your Word\n",
      "malayalam\n",
      "True\n"
     ]
    }
   ],
   "source": [
    "x=input(\"Enter Your Word\\n\")\n",
    "print(x==x[::-1])"
   ]
  },
  {
   "cell_type": "markdown",
   "id": "4245f86f",
   "metadata": {},
   "source": [
    "### Reverse Words in a Given String in Python"
   ]
  },
  {
   "cell_type": "code",
   "execution_count": 37,
   "id": "f57cfd8b",
   "metadata": {},
   "outputs": [
    {
     "name": "stdout",
     "output_type": "stream",
     "text": [
      "Enetr Your Stringamit machine learning diploma\n",
      "['diploma', 'learning', 'machine', 'amit']\n",
      "diploma learning machine amit\n"
     ]
    }
   ],
   "source": [
    "x=input(\"Enetr Your String\")\n",
    "y=x.split(\" \")[::-1]\n",
    "print(y)\n",
    "print(\" \".join(y))"
   ]
  },
  {
   "cell_type": "markdown",
   "id": "cf2f2b68",
   "metadata": {},
   "source": [
    "### Find length of a string in python\n"
   ]
  },
  {
   "cell_type": "code",
   "execution_count": 38,
   "id": "38e845e1",
   "metadata": {},
   "outputs": [
    {
     "name": "stdout",
     "output_type": "stream",
     "text": [
      "Enter Your word\n",
      "amit\n",
      "4\n"
     ]
    }
   ],
   "source": [
    "string=input(\"Enter Your word\\n\")\n",
    "print(len(string))"
   ]
  },
  {
   "cell_type": "markdown",
   "id": "49a4bafd",
   "metadata": {},
   "source": [
    "### Avoid Spaces in string length"
   ]
  },
  {
   "cell_type": "code",
   "execution_count": 1,
   "id": "a83cff8d",
   "metadata": {},
   "outputs": [
    {
     "name": "stdout",
     "output_type": "stream",
     "text": [
      "12\n"
     ]
    }
   ],
   "source": [
    "string = \"Hello, world!  \"\n",
    "length_without_spaces = len(string.replace(\" \", \"\"))\n",
    "print(length_without_spaces)\n"
   ]
  },
  {
   "cell_type": "markdown",
   "id": "e8d13746",
   "metadata": {},
   "source": [
    "### Smallest Length String in the list"
   ]
  },
  {
   "cell_type": "code",
   "execution_count": null,
   "id": "61394448",
   "metadata": {},
   "outputs": [],
   "source": [
    "list_one=input(\"Enter Your List\\n\")\n",
    "list_one.split(\",\")\n",
    "res=min(list_one,key=len)\n",
    "print(res)\n"
   ]
  },
  {
   "cell_type": "code",
   "execution_count": null,
   "id": "a0345527",
   "metadata": {},
   "outputs": [],
   "source": []
  }
 ],
 "metadata": {
  "kernelspec": {
   "display_name": "Python 3 (ipykernel)",
   "language": "python",
   "name": "python3"
  },
  "language_info": {
   "codemirror_mode": {
    "name": "ipython",
    "version": 3
   },
   "file_extension": ".py",
   "mimetype": "text/x-python",
   "name": "python",
   "nbconvert_exporter": "python",
   "pygments_lexer": "ipython3",
   "version": "3.10.9"
  }
 },
 "nbformat": 4,
 "nbformat_minor": 5
}
